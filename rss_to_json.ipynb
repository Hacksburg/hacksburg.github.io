{
 "cells": [
  {
   "cell_type": "code",
   "execution_count": null,
   "metadata": {},
   "outputs": [],
   "source": [
    "from datetime import datetime, timedelta\n",
    "import json\n",
    "import markdown\n",
    "import pandas as pd\n",
    "from pathlib import Path\n",
    "import re"
   ]
  },
  {
   "cell_type": "code",
   "execution_count": null,
   "metadata": {},
   "outputs": [],
   "source": [
    "# Specify input RSS file from https://www.meetup.com/hacksburgva/events/rss/ (Must be signed into meetup)\n",
    "file = 'rss.txt'\n",
    "\n",
    "# Change extension to json for output\n",
    "out_file = Path(file).with_suffix('.json')\n",
    "\n",
    "# Read data from input file, drop weekly meeting events\n",
    "data = pd.read_xml(file, xpath=\".//item\")\n",
    "data.drop(data[data[\"title\"] == \"Weekly Meeting\"].index, inplace=True)"
   ]
  },
  {
   "cell_type": "code",
   "execution_count": null,
   "metadata": {},
   "outputs": [],
   "source": [
    "# Define regex for parsing description field (includes date, time, description, number of attendees, price, etc)\n",
    "expression = re.compile('.*<p><p>(?P<description>.*)<\\/p> <\\/p> <p>(?P<location>.*?)<\\/p> <p>(?P<date>.*?)<\\/p> <p>(?P<attendees>.*?)<\\/p>( <p>Price: (?P<price>[0-9]+).*?<\\/p>)? <p>(?P<url>.*)<\\/p>.*')\n",
    "\n",
    "# Initialize empty frame for collecting events\n",
    "output = pd.DataFrame()\n",
    "\n",
    "# Iterate through events\n",
    "# Notes and limitations:\n",
    "# - No subtitles are generated\n",
    "# - Meetup does not include year in timestamp, Dates may be inaccurate near end of year\n",
    "# - End time assumed to be 3 hours after start\n",
    "# - By default assuming onsite location, not offered online, offered in person\n",
    "# - Member price $5 less than meetup price\n",
    "# - No image attached\n",
    "\n",
    "for index, row in data.iterrows():\n",
    "    # print(row[\"description\"]) # For debug\n",
    "    description_groups = expression.match(row[\"description\"]).groupdict()\n",
    "    date_time = datetime.strptime(description_groups['date'], '%A, %B %d at %I:%M %p').replace(year=datetime.today().year)\n",
    "    if description_groups['price']:\n",
    "        member_price = int(description_groups['price'])-5\n",
    "        non_member_price = int(description_groups['price'])\n",
    "    else:\n",
    "        member_price = 0\n",
    "        non_member_price = 0\n",
    "    temp = {\"title\": row['title'],\n",
    "            \"subtitle\": \"\",\n",
    "            \"description\": markdown.markdown(description_groups['description']),\n",
    "            \"date\": date_time.strftime('%Y-%m-%d'),\n",
    "            \"start_time\": date_time.strftime('%-I:%M%p').lower(),\n",
    "            \"end_time\": (date_time + timedelta(hours=3)).strftime('%-I:%M%p').lower(),\n",
    "            \"offsite_location\": None,\n",
    "            \"offered_online\": False,\n",
    "            \"offered_in_person\": True,\n",
    "            \"member_price\": member_price,\n",
    "            \"non_member_price\": non_member_price,\n",
    "            \"image\": \"\",\n",
    "            \"meetup_link\": row['guid']}\n",
    "    output = pd.concat([output, pd.DataFrame([temp])], ignore_index=True)"
   ]
  },
  {
   "cell_type": "code",
   "execution_count": null,
   "metadata": {},
   "outputs": [],
   "source": [
    "# Write to output file\n",
    "# Escapes forward slashed by default, has no impact on generated html\n",
    "output.to_json(orient=\"records\",path_or_buf=out_file)\n",
    "\n",
    "# Use Ctrl+Shift+I in VS Code to auto-indent"
   ]
  }
 ],
 "metadata": {
  "kernelspec": {
   "display_name": "Python 3",
   "language": "python",
   "name": "python3"
  },
  "language_info": {
   "codemirror_mode": {
    "name": "ipython",
    "version": 3
   },
   "file_extension": ".py",
   "mimetype": "text/x-python",
   "name": "python",
   "nbconvert_exporter": "python",
   "pygments_lexer": "ipython3",
   "version": "3.8.10"
  },
  "orig_nbformat": 4
 },
 "nbformat": 4,
 "nbformat_minor": 2
}
