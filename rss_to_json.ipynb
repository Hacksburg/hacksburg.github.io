{
 "cells": [
  {
   "cell_type": "code",
   "execution_count": null,
   "metadata": {},
   "outputs": [],
   "source": [
    "import json\n",
    "import pandas\n",
    "from datetime import datetime, timedelta\n",
    "import re\n",
    "from pathlib import Path"
   ]
  },
  {
   "cell_type": "code",
   "execution_count": null,
   "metadata": {},
   "outputs": [],
   "source": [
    "file = 'rss.txt'\n",
    "out_file = Path(file).with_suffix('.json')\n",
    "data = pandas.read_xml(file, xpath=\".//item\")\n",
    "data.drop(data[data[\"title\"] == \"Weekly Meeting\"].index, inplace=True)"
   ]
  },
  {
   "cell_type": "code",
   "execution_count": null,
   "metadata": {},
   "outputs": [],
   "source": [
    "expression = re.compile('.*<p><p>(?P<description>.*)<\\/p> <\\/p> <p>(?P<location>.*)<\\/p> <p>(?P<date>.*)<\\/p> <p>(?P<attendees>.*)<\\/p> <p>Price: (?P<price>[0-9]+).*<\\/p> <p>(?P<url>.*)<\\/p>.*')"
   ]
  },
  {
   "cell_type": "code",
   "execution_count": null,
   "metadata": {},
   "outputs": [],
   "source": [
    "output = pandas.DataFrame()\n",
    "\n",
    "for index, row in data.iterrows():\n",
    "    description_groups = expression.match(row[\"description\"]).groupdict()\n",
    "    date_time = datetime.strptime(description_groups['date'], '%A, %B %d at %I:%M %p').replace(year=datetime.today().year)\n",
    "    temp = {\"title\": row['title'],\n",
    "\t\t\t\"subtitle\": \"\",\n",
    "\t\t\t\"description\": description_groups['description'].replace('</p>','').replace('<p>',''),\n",
    "\t\t\t\"date\": date_time.strftime('%Y-%m-%d'),\n",
    "\t\t\t\"start_time\": date_time.strftime('%-I:%M%p').lower(),\n",
    "\t\t\t\"end_time\": (date_time + timedelta(hours=3)).strftime('%-I:%M%p').lower(),\n",
    "\t\t\t\"offsite_location\": 'null',\n",
    "\t\t\t\"offered_online\": 'false',\n",
    "\t\t\t\"offered_in_person\": 'true',\n",
    "\t\t\t\"member_price\": str(int(description_groups['price'])-5),\n",
    "\t\t\t\"non_member_price\": description_groups['price'],\n",
    "\t\t\t\"image\": \"\",\n",
    "\t\t\t\"meetup_link\": row['guid']}\n",
    "    output = output.append(temp, ignore_index=True)"
   ]
  },
  {
   "cell_type": "code",
   "execution_count": null,
   "metadata": {},
   "outputs": [],
   "source": [
    "with open(out_file,'w') as f:\n",
    "    f.write(json.dumps(json.loads(output.to_json(orient=\"records\"))))"
   ]
  }
 ],
 "metadata": {
  "kernelspec": {
   "display_name": "Python 3",
   "language": "python",
   "name": "python3"
  },
  "language_info": {
   "codemirror_mode": {
    "name": "ipython",
    "version": 3
   },
   "file_extension": ".py",
   "mimetype": "text/x-python",
   "name": "python",
   "nbconvert_exporter": "python",
   "pygments_lexer": "ipython3",
   "version": "3.8.10"
  },
  "orig_nbformat": 4
 },
 "nbformat": 4,
 "nbformat_minor": 2
}
