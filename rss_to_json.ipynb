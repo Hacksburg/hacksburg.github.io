{
 "cells": [
  {
   "cell_type": "code",
   "execution_count": null,
   "metadata": {},
   "outputs": [],
   "source": [
    "from datetime import datetime, timedelta\n",
    "import json\n",
    "import markdown\n",
    "import pandas\n",
    "from pathlib import Path\n",
    "import re"
   ]
  },
  {
   "cell_type": "code",
   "execution_count": null,
   "metadata": {},
   "outputs": [],
   "source": [
    "# Specify input RSS file from https://www.meetup.com/hacksburgva/events/rss/ (Must be signed into meetup)\n",
    "file = 'rss.txt'\n",
    "\n",
    "# Change extension to json for output\n",
    "out_file = Path(file).with_suffix('.json')\n",
    "\n",
    "# Read data from input file, drop weekly meeting events\n",
    "data = pandas.read_xml(file, xpath=\".//item\")\n",
    "data.drop(data[data[\"title\"] == \"Weekly Meeting\"].index, inplace=True)"
   ]
  },
  {
   "cell_type": "code",
   "execution_count": null,
   "metadata": {},
   "outputs": [],
   "source": [
    "# Define regex for parsing description field (includes date, time, description, number of attendees, price, etc)\n",
    "expression = re.compile('.*<p><p>(?P<description>.*)<\\/p> <\\/p> <p>(?P<location>.*)<\\/p> <p>(?P<date>.*)<\\/p> <p>(?P<attendees>.*)<\\/p> <p>Price: (?P<price>[0-9]+).*<\\/p> <p>(?P<url>.*)<\\/p>.*')\n",
    "\n",
    "# Initialize empty frame for collecting events\n",
    "output = pandas.DataFrame()\t\n",
    "\n",
    "# Iterate through events\n",
    "# # Notes:\n",
    "# - No subtitles are generated\n",
    "# - Meetup does not include year in timestamp, Dates may be innaccurate near end of year\n",
    "# - End time assumed to be 3 hours after start\n",
    "# - By default assuming onsite location, not offered online, offered in person\n",
    "# - Member price $5 less than meetup price\n",
    "# - No image attached\n",
    "\n",
    "for index, row in data.iterrows():\n",
    "    description_groups = expression.match(row[\"description\"]).groupdict()\n",
    "    date_time = datetime.strptime(description_groups['date'], '%A, %B %d at %I:%M %p').replace(year=datetime.today().year)\n",
    "    temp = {\"title\": row['title'],\n",
    "\t\t\t\"subtitle\": \"\",\n",
    "\t\t\t\"description\": markdown.markdown(description_groups['description']),\n",
    "\t\t\t\"date\": date_time.strftime('%Y-%m-%d'),\n",
    "\t\t\t\"start_time\": date_time.strftime('%-I:%M%p').lower(),\n",
    "\t\t\t\"end_time\": (date_time + timedelta(hours=3)).strftime('%-I:%M%p').lower(),\n",
    "\t\t\t\"offsite_location\": None,\n",
    "\t\t\t\"offered_online\": False,\n",
    "\t\t\t\"offered_in_person\": True,\n",
    "\t\t\t\"member_price\": int(description_groups['price'])-5,\n",
    "\t\t\t\"non_member_price\": int(description_groups['price']),\n",
    "\t\t\t\"image\": \"\",\n",
    "\t\t\t\"meetup_link\": row['guid']}\n",
    "    output = output.append(temp, ignore_index=True)"
   ]
  },
  {
   "cell_type": "code",
   "execution_count": null,
   "metadata": {},
   "outputs": [],
   "source": [
    "# Write to output file\n",
    "# Escapes forward slashed by default, has no impact on generared html\n",
    "output.to_json(orient=\"records\",path_or_buf=out_file)"
   ]
  }
 ],
 "metadata": {
  "kernelspec": {
   "display_name": "Python 3",
   "language": "python",
   "name": "python3"
  },
  "language_info": {
   "codemirror_mode": {
    "name": "ipython",
    "version": 3
   },
   "file_extension": ".py",
   "mimetype": "text/x-python",
   "name": "python",
   "nbconvert_exporter": "python",
   "pygments_lexer": "ipython3",
   "version": "3.8.10"
  },
  "orig_nbformat": 4
 },
 "nbformat": 4,
 "nbformat_minor": 2
}
